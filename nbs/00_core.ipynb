{
 "cells": [
  {
   "cell_type": "code",
   "execution_count": 5,
   "metadata": {},
   "outputs": [],
   "source": [
    "#| default_exp core"
   ]
  },
  {
   "cell_type": "markdown",
   "metadata": {},
   "source": [
    "# DB setup \n",
    "> A Simple API for configure the DB connection with Mongodb"
   ]
  },
  {
   "cell_type": "code",
   "execution_count": 6,
   "metadata": {},
   "outputs": [],
   "source": [
    "# | hide\n",
    "from nbdev.showdoc import *\n",
    "\n",
    "# | export\n",
    "from typing import Optional\n",
    "from pymongo import MongoClient\n",
    "from pymongo.database import Database\n",
    "import yaml\n",
    "from pathlib import Path\n",
    "import re\n",
    "from dataclasses import dataclass\n"
   ]
  },
  {
   "cell_type": "code",
   "execution_count": 7,
   "metadata": {},
   "outputs": [],
   "source": [
    "\n",
    "\n",
    "# | export\n",
    "class MongoDBConnection:\n",
    "    \"\"\"Class to handle MongoDB connections for SEORAT\"\"\"\n",
    "\n",
    "    def __init__(self, connection_string: str = \"mongodb://127.0.0.1:27017/\"):\n",
    "        self.connection_string = connection_string\n",
    "        self.client: Optional[MongoClient] = None\n",
    "\n",
    "    def connect(self, db_name: str = \"seorat\") -> Optional[Database]:\n",
    "        \"\"\"Connect to MongoDB and return database instance\"\"\"\n",
    "        try:\n",
    "            self.client = MongoClient(self.connection_string)\n",
    "            return self.client[db_name]\n",
    "        except Exception as e:\n",
    "            print(f\"Error connecting to MongoDB: {e}\")\n",
    "            return None\n",
    "\n",
    "    def close(self):\n",
    "        \"\"\"Close the MongoDB connection\"\"\"\n",
    "        if self.client:\n",
    "            self.client.close()\n"
   ]
  },
  {
   "cell_type": "code",
   "execution_count": 8,
   "metadata": {},
   "outputs": [
    {
     "name": "stdout",
     "output_type": "stream",
     "text": [
      "Successfully connected to MongoDB!\n",
      "Successfully created test collection\n",
      "Connection closed\n"
     ]
    }
   ],
   "source": [
    "# | hide\n",
    "# Test cell\n",
    "db_connection = MongoDBConnection()\n",
    "db = db_connection.connect()\n",
    "\n",
    "if db is not None:\n",
    "    print(\"Successfully connected to MongoDB!\")\n",
    "    # Try to create a test collection\n",
    "    try:\n",
    "        test_collection = db.create_collection(\"test_collection\")\n",
    "        print(\"Successfully created test collection\")\n",
    "        # Clean up by dropping the test collection\n",
    "        db.drop_collection(\"test_collection\")\n",
    "    except Exception as e:\n",
    "        print(f\"Error during test: {e}\")\n",
    "\n",
    "    db_connection.close()\n",
    "    print(\"Connection closed\")\n",
    "else:\n",
    "    print(\"Failed to connect to MongoDB\")"
   ]
  },
  {
   "cell_type": "code",
   "execution_count": null,
   "metadata": {},
   "outputs": [],
   "source": []
  }
 ],
 "metadata": {
  "kernelspec": {
   "display_name": "IR",
   "language": "python",
   "name": "python3"
  },
  "language_info": {
   "codemirror_mode": {
    "name": "ipython",
    "version": 3
   },
   "file_extension": ".py",
   "mimetype": "text/x-python",
   "name": "python",
   "nbconvert_exporter": "python",
   "pygments_lexer": "ipython3",
   "version": "3.11.9"
  }
 },
 "nbformat": 4,
 "nbformat_minor": 2
}
