{
 "cells": [
  {
   "cell_type": "markdown",
   "metadata": {},
   "source": [
    "## Design Basic SEO \n",
    "\n",
    "### Design Ideas\n",
    "\n",
    "1. Collect all URls and then apply the separeted external and internal \n",
    "\n",
    "2. How to deal with different types of urls \n",
    "   1. images\n",
    "   2. Videos\n",
    "   3. Markdown internal photo\n",
    "### Design Questions\n",
    "\n",
    "1. How to read files and work with them efficiently to handle issues of \n",
    "   1. Get out of memory \n",
    "   2. Slow execution \n",
    "\n",
    "2. Should I remove the frontmatter while processing the data and make in a different API ! \n",
    "\n",
    "3. Should i design the API to Work the Md content or read the file content with file path! "
   ]
  },
  {
   "cell_type": "markdown",
   "metadata": {},
   "source": [
    "## Design Keywords\n",
    "\n",
    "### Design Concepts\n",
    "\n",
    "1. Should I Store them mainly into a SQL database! and make use python functions as  a helpers to store metadata into the DB?? \n",
    "2. I should find a better way to store the keywords associated with the my files documents\n",
    "\n",
    "#### Focus keywords Attributes! \n",
    "\n",
    "1. Adding \n",
    "2. Updating Keyword\n",
    "3. Adding and upadting the search volume \n",
    "4. Adding and Updating the Ranking \n",
    "5. Primary Keyword\n",
    "   1. Adding Primary Focus keyword\n",
    "   2. Change Primary Focus Keyword \n",
    "6. Get Length of the keywords"
   ]
  },
  {
   "cell_type": "code",
   "execution_count": null,
   "metadata": {},
   "outputs": [],
   "source": []
  }
 ],
 "metadata": {
  "language_info": {
   "name": "python"
  }
 },
 "nbformat": 4,
 "nbformat_minor": 2
}
