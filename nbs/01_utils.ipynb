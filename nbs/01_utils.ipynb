{
 "cells": [
  {
   "cell_type": "code",
   "execution_count": null,
   "metadata": {},
   "outputs": [],
   "source": [
    "#| default_exp utils"
   ]
  },
  {
   "cell_type": "markdown",
   "metadata": {},
   "source": [
    "# Utils\n",
    "Some util functions"
   ]
  },
  {
   "cell_type": "code",
   "execution_count": null,
   "metadata": {},
   "outputs": [],
   "source": [
    "#|hide\n",
    "from nbdev.showdoc import *"
   ]
  },
  {
   "cell_type": "code",
   "execution_count": null,
   "metadata": {},
   "outputs": [],
   "source": [
    "#|export\n",
    "import re\n",
    "import yaml\n",
    "from pathlib import Path\n",
    "import glob\n",
    "from typing import List, Dict, Any, Tuple\n",
    "from difflib import SequenceMatcher\n",
    "from urllib.parse import urlparse\n"
   ]
  },
  {
   "cell_type": "code",
   "execution_count": null,
   "metadata": {},
   "outputs": [],
   "source": [
    "#|export\n",
    "def exclude_front_matter(content: str) -> str:\n",
    "    \"\"\"Remove front matter from markdown content\"\"\"\n",
    "    front_matter_end = content.find('---', 3)\n",
    "    if front_matter_end != -1:\n",
    "        return content[front_matter_end + 3:].strip()\n",
    "    return content\n"
   ]
  },
  {
   "cell_type": "code",
   "execution_count": null,
   "metadata": {},
   "outputs": [],
   "source": [
    "#| test\n",
    "test_content = \"\"\"---\n",
    "title: Test Title\n",
    "date: 2024-01-27\n",
    "---\n",
    "# Main Content\n",
    "This is the actual content.\"\"\"\n",
    "\n",
    "result = exclude_front_matter(test_content)\n",
    "assert result == \"# Main Content\\nThis is the actual content.\"\n",
    "\n",
    "# Test with no front matter\n",
    "test_content_no_frontmatter = \"# Just content\\nNo front matter here\"\n",
    "assert exclude_front_matter(test_content_no_frontmatter) == test_content_no_frontmatter\n"
   ]
  },
  {
   "cell_type": "code",
   "execution_count": null,
   "metadata": {},
   "outputs": [],
   "source": [
    "\n",
    "#|export\n",
    "def normalize_text(text: str) -> str:\n",
    "    \"\"\"Normalize text by removing extra whitespace\"\"\"\n",
    "    return re.sub(r'\\s+', ' ', text).strip()\n"
   ]
  },
  {
   "cell_type": "code",
   "execution_count": null,
   "metadata": {},
   "outputs": [],
   "source": [
    "\n",
    "#|export\n",
    "def extract_frontmatter(md_content: str) -> Tuple[str, str, str, str, List[str]]:\n",
    "    \"\"\"Extract metadata from markdown frontmatter\n",
    "    Returns: title, publishDate, excerpt, image, tags\"\"\"\n",
    "    # Extract YAML front matter\n",
    "    yaml_front_matter = md_content.split(\"---\")[1]\n",
    "    # Load YAML front matter\n",
    "    front_matter_data = yaml.safe_load(yaml_front_matter)\n",
    "    \n",
    "    return (\n",
    "        front_matter_data.get(\"title\"),\n",
    "        front_matter_data.get(\"publishDate\"),\n",
    "        front_matter_data.get(\"excerpt\"),\n",
    "        front_matter_data.get('image'),\n",
    "        front_matter_data.get(\"tags\", [])\n",
    "    )\n"
   ]
  },
  {
   "cell_type": "code",
   "execution_count": null,
   "metadata": {},
   "outputs": [],
   "source": [
    "#|test\n",
    "test_md = \"\"\"---\n",
    "publishDate: 2024-01-27\n",
    "title: Test Article\n",
    "excerpt: Test excerpt\n",
    "image: ~/assets/images/test.png\n",
    "tags:\n",
    "  - Python\n",
    "  - Testing\n",
    "---\n",
    "# Content here\n",
    "\"\"\"\n",
    "\n",
    "title, pub_date, excerpt, image, tags = extract_frontmatter(test_md)\n",
    "assert title == \"Test Article\"\n",
    "assert str(pub_date) == \"2024-01-27\"  # Convert to string for comparison\n",
    "assert excerpt == \"Test excerpt\"\n",
    "assert image == \"~/assets/images/test.png\"\n",
    "assert tags == [\"Python\", \"Testing\"]\n"
   ]
  },
  {
   "cell_type": "code",
   "execution_count": null,
   "metadata": {},
   "outputs": [],
   "source": [
    "\n",
    "#| export\n",
    "def extract_markdown_urls_with_tags(md_content: str) -> Dict[str, Dict]:\n",
    "    \"\"\"Extract URLs and their metadata from markdown content\"\"\"\n",
    "    markdown_urls = {}\n",
    "    lines = md_content.split('\\n')\n",
    "    for line_number, line in enumerate(lines, start=1):\n",
    "        urls = re.finditer(r'\\[(.*?)\\]\\((.*?)\\)', line)\n",
    "        for match in urls:\n",
    "            title = match.group(1)\n",
    "            url = match.group(2)\n",
    "            if url not in markdown_urls:\n",
    "                markdown_urls[url] = {'titles': [], 'lines': []}\n",
    "            markdown_urls[url]['titles'].append(title)\n",
    "            markdown_urls[url]['lines'].append(line_number)\n",
    "    return markdown_urls\n"
   ]
  },
  {
   "cell_type": "code",
   "execution_count": null,
   "metadata": {},
   "outputs": [],
   "source": [
    "#|test\n",
    "with open('../sample/example.md', 'r') as f:\n",
    "    test_content = f.read()\n",
    "    \n",
    "urls_data = extract_markdown_urls_with_tags(test_content)\n",
    "\n",
    "# Test specific URLs we know are in the file\n",
    "assert 'https://emdadelgaz.com' in urls_data\n",
    "assert 'https://awazly.com/' in urls_data\n",
    "\n",
    "# Test structure of returned data\n",
    "for url, data in urls_data.items():\n",
    "    assert 'titles' in data\n",
    "    assert 'lines' in data\n"
   ]
  },
  {
   "cell_type": "code",
   "execution_count": null,
   "metadata": {},
   "outputs": [],
   "source": [
    "\n",
    "#| export\n",
    "def extract_markdown_images(file_content: str) -> List[Dict[str, str]]:\n",
    "    \"\"\"Extract images and their alt text from markdown content\"\"\"\n",
    "    image_pattern = r'\\!\\[(.*?)\\]\\((.*?)\\)'\n",
    "    matches = re.findall(image_pattern, file_content)\n",
    "    return [{'alt_text': alt_text, 'url': url} for alt_text, url in matches]\n"
   ]
  },
  {
   "cell_type": "code",
   "execution_count": null,
   "metadata": {},
   "outputs": [],
   "source": [
    "#|test    \n",
    "images = extract_markdown_images(test_content)\n",
    "\n",
    "# Test that we found the images\n",
    "assert len(images) > 0\n",
    "assert any('Iron man photo' == img['alt_text'] for img in images)\n",
    "assert any('~/assets/images/28.png' == img['url'] for img in images)\n"
   ]
  },
  {
   "cell_type": "code",
   "execution_count": null,
   "metadata": {},
   "outputs": [],
   "source": [
    "#| export\n",
    "def detect_numbers(text: str) -> List[str]:\n",
    "    \"\"\"Extract phone numbers from text\"\"\"\n",
    "    phone_regex = re.compile(r\"(\\+420)?\\s*?(\\d{3})\\s*?(\\d{3})\\s*?(\\d{3})\")\n",
    "    groups = phone_regex.findall(text)\n",
    "    return [\"\".join(g) for g in groups]\n",
    "\n"
   ]
  },
  {
   "cell_type": "code",
   "execution_count": null,
   "metadata": {},
   "outputs": [
    {
     "data": {
      "text/plain": [
       "['010136468', '966503139', '010051346']"
      ]
     },
     "execution_count": null,
     "metadata": {},
     "output_type": "execute_result"
    }
   ],
   "source": [
    "detect_numbers(test_content)"
   ]
  },
  {
   "cell_type": "code",
   "execution_count": null,
   "metadata": {},
   "outputs": [],
   "source": [
    "#|test\n",
    "# Test phone numbers from the content\n",
    "numbers = detect_numbers(test_content)\n",
    "assert '966503139' in numbers  # Testing for specific number\n",
    "assert len(numbers) > 0  # Should find at least one number\n"
   ]
  },
  {
   "cell_type": "code",
   "execution_count": null,
   "metadata": {},
   "outputs": [],
   "source": [
    "\n",
    "#|export\n",
    "def calculate_similarity(text1: str, text2: str) -> float:\n",
    "    \"\"\"Calculate similarity ratio between two texts\"\"\"\n",
    "    return SequenceMatcher(None, text1, text2).ratio()\n",
    "\n"
   ]
  },
  {
   "cell_type": "code",
   "execution_count": null,
   "metadata": {},
   "outputs": [],
   "source": [
    "#|test\n",
    "# Test exact match\n",
    "assert calculate_similarity(\"hello\", \"hello\") == 1.0\n",
    "\n",
    "# Test completely different strings\n",
    "assert calculate_similarity(\"hello\", \"world\") < 0.5\n",
    "\n",
    "# Test partial similarity\n",
    "assert 0.5 < calculate_similarity(\"hello world\", \"hello there\") < 1.0\n",
    "\n",
    "# Test case sensitivity\n",
    "text1 = \"Hello World\"\n",
    "text2 = \"hello world\"\n",
    "assert calculate_similarity(text1, text2) < 1.0\n"
   ]
  },
  {
   "cell_type": "code",
   "execution_count": null,
   "metadata": {},
   "outputs": [],
   "source": [
    "\n",
    "#|export\n",
    "def get_file_paths(file_path):\n",
    "    \"\"\"\n",
    "    get the file paths\n",
    "    \"\"\"\n",
    "\n",
    "    return glob.glob(file_path)"
   ]
  },
  {
   "cell_type": "code",
   "execution_count": null,
   "metadata": {},
   "outputs": [],
   "source": [
    "#|export\n",
    "def get_internal_urls(urls, target_domain):\n",
    "    \"\"\"\n",
    "    Get Internal URLs from URLs by the target domain\n",
    "    \"\"\"\n",
    "    related_urls = []\n",
    "    for url in urls:\n",
    "        parsed_url = urlparse(url)\n",
    "        # Check for exact domain match only\n",
    "        if parsed_url.netloc == target_domain:\n",
    "            related_urls.append(url)\n",
    "    return related_urls\n"
   ]
  },
  {
   "cell_type": "code",
   "execution_count": null,
   "metadata": {},
   "outputs": [],
   "source": [
    "#|test\n",
    "# Test URLs\n",
    "test_urls = [\n",
    "    'https://emdadelgaz.com/about',\n",
    "    'https://emdadelgaz.com/contact',\n",
    "    'https://awazly.com/',\n",
    "    'https://example.com/test',\n",
    "    'https://emdadelgaz/about.com'\n",
    "]\n",
    "\n",
    "# Test with emdadelgaz.com domain\n",
    "internal_urls = get_internal_urls(test_urls, 'emdadelgaz.com')\n",
    "assert len(internal_urls) == 2\n",
    "assert 'https://emdadelgaz.com/about' in internal_urls\n",
    "assert 'https://emdadelgaz.com/contact' in internal_urls\n",
    "assert 'https://awazly.com/' not in internal_urls\n",
    "\n",
    "# Test with actual content from file\n",
    "urls_data = extract_markdown_urls_with_tags(test_content)\n",
    "internal = get_internal_urls(urls_data.keys(), 'emdadelgaz.com')\n",
    "assert len(internal) > 0\n"
   ]
  },
  {
   "cell_type": "code",
   "execution_count": null,
   "metadata": {},
   "outputs": [],
   "source": [
    "#|export\n",
    "def get_file_name(file_path):\n",
    "    \"\"\"get the file name\"\"\"\n",
    "    return file_path.split(\"/\")[-1][:-3]"
   ]
  },
  {
   "cell_type": "code",
   "execution_count": null,
   "metadata": {},
   "outputs": [],
   "source": [
    "#|export\n",
    "def get_external_urls(urls, target_domain):\n",
    "    \"\"\"\n",
    "    Return the number of Internal Urls from markdown content by Target Domain\n",
    "    \"\"\"\n",
    "    related_urls = []\n",
    "    for url in urls:\n",
    "        parsed_url = urlparse(url)\n",
    "        if (\n",
    "            not parsed_url.netloc == target_domain\n",
    "            and not parsed_url.netloc == target_domain.split(\".\")[0]\n",
    "            and not any(\n",
    "                parsed_url.path.lower().endswith(ext)\n",
    "                for ext in (\".png\", \".jpg\", \".jpeg\", \".gif\", \".bmp\", \".svg\", \".webp\")\n",
    "            )\n",
    "        ):\n",
    "            related_urls.append(url)\n",
    "    return related_urls"
   ]
  },
  {
   "cell_type": "code",
   "execution_count": null,
   "metadata": {},
   "outputs": [
    {
     "name": "stdout",
     "output_type": "stream",
     "text": [
      "Found external URLs: ['https://example.com/page', 'https://test.com/doc.pdf', 'https://awazly.com/']\n"
     ]
    }
   ],
   "source": [
    "#|test\n",
    "# Test URLs including internal, external, and image URLs\n",
    "test_urls = [\n",
    "    'https://emdadelgaz.com/about',\n",
    "    'https://example.com/page',\n",
    "    'https://test.com/doc.pdf',\n",
    "    'https://images.com/test.png',\n",
    "    'https://awazly.com/',\n",
    "    'https://emdadelgaz.com/logo.jpg'\n",
    "]\n",
    "\n",
    "# Test with emdadelgaz.com domain\n",
    "external_urls = get_external_urls(test_urls, 'emdadelgaz.com')\n",
    "\n",
    "# Debug print\n",
    "print(\"Found external URLs:\", external_urls)\n",
    "\n",
    "# Test assertions\n",
    "assert len(external_urls) == 3  # example.com, test.com, and awazly.com\n",
    "assert 'https://example.com/page' in external_urls\n",
    "assert 'https://test.com/doc.pdf' in external_urls\n",
    "assert 'https://awazly.com/' in external_urls\n",
    "assert 'https://images.com/test.png' not in external_urls  # Should exclude image URLs\n",
    "assert 'https://emdadelgaz.com/about' not in external_urls  # Should exclude internal URLs\n"
   ]
  },
  {
   "cell_type": "code",
   "execution_count": null,
   "metadata": {},
   "outputs": [],
   "source": [
    "#|export\n",
    "def get_heads_info(file_path):\n",
    "    \"\"\"\n",
    "    Get the Number of Headings for each type with the line number, content, and length\n",
    "    \"\"\"\n",
    "    headings = []\n",
    "\n",
    "    with open(file_path, \"r\") as file:\n",
    "        for line_number, line in enumerate(file, start=1):\n",
    "            line = line.strip()\n",
    "            if line.startswith(\"# \"):\n",
    "                headings.append(\n",
    "                    {\n",
    "                        \"type\": \"h1\",\n",
    "                        \"line_number\": line_number,\n",
    "                        \"content\": line.strip(\"# \").strip(),\n",
    "                        \"length\": len(line.strip(\"# \").strip()),\n",
    "                    }\n",
    "                )\n",
    "            elif line.startswith(\"## \"):\n",
    "                headings.append(\n",
    "                    {\n",
    "                        \"type\": \"h2\",\n",
    "                        \"line_number\": line_number,\n",
    "                        \"content\": line.strip(\"## \").strip(),\n",
    "                        \"length\": len(line.strip(\"## \").strip()),\n",
    "                    }\n",
    "                )\n",
    "            elif line.startswith(\"### \"):\n",
    "                headings.append(\n",
    "                    {\n",
    "                        \"type\": \"h3\",\n",
    "                        \"line_number\": line_number,\n",
    "                        \"content\": line.strip(\"### \").strip(),\n",
    "                        \"length\": len(line.strip(\"### \").strip()),\n",
    "                    }\n",
    "                )\n",
    "            elif line.startswith(\"#### \"):\n",
    "                headings.append(\n",
    "                    {\n",
    "                        \"type\": \"h4\",\n",
    "                        \"line_number\": line_number,\n",
    "                        \"content\": line.strip(\"#### \").strip(),\n",
    "                        \"length\": len(line.strip(\"#### \").strip()),\n",
    "                    }\n",
    "                )\n",
    "            elif line.startswith(\"##### \"):\n",
    "                headings.append(\n",
    "                    {\n",
    "                        \"type\": \"h5\",\n",
    "                        \"line_number\": line_number,\n",
    "                        \"content\": line.strip(\"##### \").strip(),\n",
    "                        \"length\": len(line.strip(\"##### \").strip()),\n",
    "                    }\n",
    "                )\n",
    "            elif line.startswith(\"###### \"):\n",
    "                headings.append(\n",
    "                    {\n",
    "                        \"type\": \"h6\",\n",
    "                        \"line_number\": line_number,\n",
    "                        \"content\": line.strip(\"###### \").strip(),\n",
    "                        \"length\": len(line.strip(\"###### \").strip()),\n",
    "                    }\n",
    "                )\n",
    "\n",
    "    return headings"
   ]
  },
  {
   "cell_type": "code",
   "execution_count": null,
   "metadata": {},
   "outputs": [],
   "source": [
    "#|hide\n",
    "def get_num_heads(h_elements):\n",
    "    \"\"\"\n",
    "    Return A list continas the length of each heading\n",
    "\n",
    "    Takes the heading info from `get_heads_info`\n",
    "    \"\"\"\n",
    "    #! Update this to work with the new dict structure\n",
    "    return list(map(len, h_elements.values()))"
   ]
  },
  {
   "cell_type": "code",
   "execution_count": null,
   "metadata": {},
   "outputs": [
    {
     "name": "stdout",
     "output_type": "stream",
     "text": [
      "Found headings: [{'type': 'h1', 'line_number': 15, 'content': 'This is me Kareem', 'length': 17}, {'type': 'h1', 'line_number': 17, 'content': 'This is Kareem Also', 'length': 19}, {'type': 'h2', 'line_number': 21, 'content': 'How do you know me!', 'length': 19}, {'type': 'h2', 'line_number': 25, 'content': 'oh no! iron man!', 'length': 16}, {'type': 'h2', 'line_number': 34, 'content': 'References', 'length': 10}, {'type': 'h3', 'line_number': 42, 'content': 'Books', 'length': 5}, {'type': 'h4', 'line_number': 48, 'content': 'nbdev is super cool!', 'length': 20}, {'type': 'h5', 'line_number': 50, 'content': 'Test Deriven Developement is a life changing!', 'length': 45}, {'type': 'h6', 'line_number': 52, 'content': 'I am an Love with best girl in the whole world!', 'length': 47}]\n"
     ]
    }
   ],
   "source": [
    "#|test\n",
    "\n",
    "headings = get_heads_info('../sample/example.md')\n",
    "\n",
    "# Debug print\n",
    "print(\"Found headings:\", headings)\n",
    "# Test assertions\n",
    "assert len(headings) > 0  # Should find some headings\n",
    "assert all(h['type'] in ['h1', 'h2', 'h3', 'h4', 'h5', 'h6'] for h in headings)\n",
    "assert all('line_number' in h for h in headings)\n",
    "assert all('content' in h for h in headings)\n",
    "assert all('length' in h for h in headings)\n",
    "\n",
    "# Test specific headings we know are in the file\n",
    "h1_headings = [h for h in headings if h['type'] == 'h1']\n",
    "h2_headings = [h for h in headings if h['type'] == 'h2']\n",
    "assert any('This is me Kareem' in h['content'] for h in h1_headings)\n",
    "assert any('How do you know me!' in h['content'] for h in h2_headings)\n"
   ]
  },
  {
   "cell_type": "code",
   "execution_count": null,
   "metadata": {},
   "outputs": [],
   "source": [
    "#|export\n",
    "def main_keyword_in_start(file_content, keyword, percent=10):\n",
    "    \"\"\"\n",
    "    Find if the Keyword in File Content\n",
    "    Default Percent is 10% of File Content\n",
    "    \"\"\"\n",
    "    if keyword in file_content[: int(len(file_content) * percent / 100)]:\n",
    "        return True\n",
    "    else:\n",
    "        return False"
   ]
  },
  {
   "cell_type": "code",
   "execution_count": null,
   "metadata": {},
   "outputs": [],
   "source": []
  }
 ],
 "metadata": {
  "kernelspec": {
   "display_name": "IR",
   "language": "python",
   "name": "python3"
  },
  "language_info": {
   "name": "python",
   "version": "3.11.9"
  }
 },
 "nbformat": 4,
 "nbformat_minor": 2
}
