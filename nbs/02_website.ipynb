{
 "cells": [
  {
   "cell_type": "code",
   "execution_count": 6,
   "metadata": {},
   "outputs": [],
   "source": [
    "#| default_exp website"
   ]
  },
  {
   "cell_type": "code",
   "execution_count": 10,
   "metadata": {},
   "outputs": [],
   "source": [
    "# | export\n",
    "from typing import Optional, List\n",
    "from pymongo.database import Database\n",
    "from pymongo.results import InsertOneResult, UpdateResult\n",
    "from bson.objectid import ObjectId\n",
    "from dataclasses import dataclass, asdict\n",
    "from typing import Optional, Dict, Any\n",
    "from datetime import datetime\n",
    "import re\n",
    "from urllib.parse import urlparse"
   ]
  },
  {
   "cell_type": "code",
   "execution_count": 8,
   "metadata": {},
   "outputs": [],
   "source": [
    "#| export\n",
    "@dataclass\n",
    "class Website:\n",
    "    \"\"\"Class representing a website in our SEO analysis system\"\"\"\n",
    "\n",
    "    url: str\n",
    "    name: str\n",
    "    description: Optional[str] = None\n",
    "    language: str = \"en\"\n",
    "    created_at: datetime = datetime.now()\n",
    "\n",
    "    def __post_init__(self):\n",
    "        \"\"\"Validate data after initialization\"\"\"\n",
    "        self.validate_url()\n",
    "        self.validate_name()\n",
    "        self.validate_language()\n",
    "\n",
    "    def validate_url(self) -> None:\n",
    "        \"\"\"Validate URL format\"\"\"\n",
    "        parsed = urlparse(self.url)\n",
    "        if not all([parsed.scheme, parsed.netloc]):\n",
    "            raise ValueError(f\"Invalid URL format: {self.url}\")\n",
    "\n",
    "    def validate_name(self) -> None:\n",
    "        \"\"\"Validate website name\"\"\"\n",
    "        if not self.name or len(self.name.strip()) < 2:\n",
    "            raise ValueError(\"Name must be at least 2 characters long\")\n",
    "\n",
    "    def validate_language(self) -> None:\n",
    "        \"\"\"Validate language code\"\"\"\n",
    "        if not re.match(r\"^[a-z]{2}(-[A-Z]{2})?$\", self.language):\n",
    "            raise ValueError(f\"Invalid language code: {self.language}\")\n",
    "\n",
    "    def to_dict(self) -> Dict[str, Any]:\n",
    "        \"\"\"Convert website data to dictionary for MongoDB storage\"\"\"\n",
    "        return asdict(self)\n",
    "\n",
    "    @classmethod\n",
    "    def from_dict(cls, data: Dict[str, Any]) -> \"Website\":\n",
    "        \"\"\"Create Website instance from dictionary data\"\"\"\n",
    "        return cls(**data)"
   ]
  },
  {
   "cell_type": "code",
   "execution_count": 9,
   "metadata": {},
   "outputs": [],
   "source": [
    "# | export\n",
    "class WebsiteStore:\n",
    "    \"\"\"Handle MongoDB operations for Website objects\"\"\"\n",
    "\n",
    "    def __init__(self, db: Database):\n",
    "        self.db = db\n",
    "        self.collection = self.db.websites\n",
    "\n",
    "    def insert_or_update_website(self, website: Website) -> str:\n",
    "        \"\"\"Insert website if not exists, or update if exists based on URL\"\"\"\n",
    "        website_dict = website.to_dict()\n",
    "\n",
    "        # Try to update existing website\n",
    "        result = self.collection.update_one(\n",
    "            {\"url\": website.url},  # Find by URL\n",
    "            {\"$set\": website_dict},  # Update all fields\n",
    "            upsert=True,  # Create if doesn't exist\n",
    "        )\n",
    "\n",
    "        if result.upserted_id:\n",
    "            return str(result.upserted_id)\n",
    "        else:\n",
    "            # Get the _id of the existing document\n",
    "            existing = self.collection.find_one({\"url\": website.url})\n",
    "            return str(existing[\"_id\"])\n",
    "\n",
    "    def delete_website(self, website_id: str) -> bool:\n",
    "        \"\"\"Delete website by ID\"\"\"\n",
    "        try:\n",
    "            result = self.collection.delete_one({\"_id\": ObjectId(website_id)})\n",
    "            return result.deleted_count > 0\n",
    "        except Exception as e:\n",
    "            print(f\"Error deleting website: {e}\")\n",
    "            return False"
   ]
  },
  {
   "cell_type": "code",
   "execution_count": null,
   "metadata": {},
   "outputs": [],
   "source": []
  }
 ],
 "metadata": {
  "kernelspec": {
   "display_name": "IR",
   "language": "python",
   "name": "python3"
  },
  "language_info": {
   "codemirror_mode": {
    "name": "ipython",
    "version": 3
   },
   "file_extension": ".py",
   "mimetype": "text/x-python",
   "name": "python",
   "nbconvert_exporter": "python",
   "pygments_lexer": "ipython3",
   "version": "3.11.9"
  }
 },
 "nbformat": 4,
 "nbformat_minor": 2
}
